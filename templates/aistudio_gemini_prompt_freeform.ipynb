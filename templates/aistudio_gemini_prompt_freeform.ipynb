{
  "cells": [
    {
      "cell_type": "markdown",
      "metadata": {
        "id": "Tce3stUlHN0L"
      },
      "source": [
        "##### Copyright 2023 Google LLC"
      ]
    },
    {
      "cell_type": "code",
      "execution_count": 1,
      "metadata": {
        "cellView": "form",
        "id": "tuOe1ymfHZPu"
      },
      "outputs": [],
      "source": [
        "# @title Licensed under the Apache License, Version 2.0 (the \"License\");\n",
        "# you may not use this file except in compliance with the License.\n",
        "# You may obtain a copy of the License at\n",
        "#\n",
        "# https://www.apache.org/licenses/LICENSE-2.0\n",
        "#\n",
        "# Unless required by applicable law or agreed to in writing, software\n",
        "# distributed under the License is distributed on an \"AS IS\" BASIS,\n",
        "# WITHOUT WARRANTIES OR CONDITIONS OF ANY KIND, either express or implied.\n",
        "# See the License for the specific language governing permissions and\n",
        "# limitations under the License."
      ]
    },
    {
      "cell_type": "markdown",
      "metadata": {
        "id": "FKwyTRdwB8aW"
      },
      "source": [
        "## Setup"
      ]
    },
    {
      "cell_type": "code",
      "execution_count": 7,
      "metadata": {
        "id": "RXInneX6xx7c"
      },
      "outputs": [],
      "source": [
        "!pip install -U -q \"google-generativeai>=0.8.2\""
      ]
    },
    {
      "cell_type": "code",
      "execution_count": 8,
      "metadata": {
        "cellView": "form",
        "id": "kWIuwKG2_oWE",
        "colab": {
          "base_uri": "https://localhost:8080/"
        },
        "outputId": "27a2d326-8b00-4215-ee9b-13d590f2f735"
      },
      "outputs": [
        {
          "output_type": "stream",
          "name": "stdout",
          "text": [
            "[]\n"
          ]
        }
      ],
      "source": [
        "# import necessary modules.\n",
        "import base64\n",
        "import copy\n",
        "import json\n",
        "import pathlib\n",
        "import requests\n",
        "\n",
        "\n",
        "import PIL.Image\n",
        "import IPython.display\n",
        "from IPython.display import Markdown\n",
        "\n",
        "try:\n",
        "    # The SDK will automatically read it from the GOOGLE_API_KEY environment variable.\n",
        "    # In Colab get the key from Colab-secrets (\"🔑\" in the left panel).\n",
        "    import os\n",
        "    from google.colab import userdata\n",
        "\n",
        "    os.environ[\"GOOGLE_API_KEY\"] = userdata.get(\"GOOGLE_API_KEY\")\n",
        "except ImportError:\n",
        "    pass\n",
        "\n",
        "import google.generativeai as genai\n",
        "\n",
        "# Parse the arguments\n",
        "\n",
        "model = 'gemini-1.5-pro' # @param {isTemplate: true}\n",
        "contents_b64 = 'W10=' # @param {isTemplate: true}\n",
        "generation_config_b64 = 'eyJ0ZW1wZXJhdHVyZSI6MSwidG9wX3AiOjAuOTUsInRvcF9rIjo0MCwibWF4X291dHB1dF90b2tlbnMiOjgxOTJ9' # @param {isTemplate: true}\n",
        "safety_settings_b64 = \"e30=\"  # @param {isTemplate: true}\n",
        "\n",
        "gais_contents = json.loads(base64.b64decode(contents_b64))\n",
        "\n",
        "generation_config = json.loads(base64.b64decode(generation_config_b64))\n",
        "safety_settings = json.loads(base64.b64decode(safety_settings_b64))\n",
        "\n",
        "stream = False\n",
        "\n",
        "# Convert and upload the files\n",
        "\n",
        "tempfiles = pathlib.Path(f\"tempfiles\")\n",
        "tempfiles.mkdir(parents=True, exist_ok=True)\n",
        "\n",
        "\n",
        "drive = None\n",
        "def upload_file_data(file_data, index):\n",
        "    \"\"\"Upload files to the Files API.\n",
        "\n",
        "    For each file, Google AI Studio either sent:\n",
        "    - a Google Drive ID,\n",
        "    - a URL,\n",
        "    - a file path, or\n",
        "    - The raw bytes (`inline_data`).\n",
        "\n",
        "    The API only understands `inline_data` or it's Files API.\n",
        "    This code, uploads files to the files API where the API can access them.\n",
        "    \"\"\"\n",
        "\n",
        "    mime_type = file_data[\"mime_type\"]\n",
        "    if drive_id := file_data.pop(\"drive_id\", None):\n",
        "        if drive is None:\n",
        "          from google.colab import drive\n",
        "          drive.mount(\"/gdrive\")\n",
        "\n",
        "        path = next(\n",
        "            pathlib.Path(f\"/gdrive/.shortcut-targets-by-id/{drive_id}\").glob(\"*\")\n",
        "        )\n",
        "        print(\"Uploading:\", str(path))\n",
        "        file_info = genai.upload_file(path=path, mime_type=mime_type)\n",
        "        file_data[\"file_uri\"] = file_info.uri\n",
        "        return\n",
        "\n",
        "    if url := file_data.pop(\"url\", None):\n",
        "        response = requests.get(url)\n",
        "        data = response.content\n",
        "        name = url.split(\"/\")[-1]\n",
        "        path = tempfiles / str(index)\n",
        "        path.write_bytes(data)\n",
        "        print(\"Uploading:\", url)\n",
        "        file_info = genai.upload_file(path, display_name=name, mime_type=mime_type)\n",
        "        file_data[\"file_uri\"] = file_info.uri\n",
        "        return\n",
        "\n",
        "    if name := file_data.get(\"filename\", None):\n",
        "        if not pathlib.Path(name).exists():\n",
        "            raise IOError(\n",
        "                f\"local file: `{name}` does not exist. You can upload files \"\n",
        "                'to Colab using the file manager (\"📁 Files\" in the left '\n",
        "                \"toolbar)\"\n",
        "            )\n",
        "        file_info = genai.upload_file(path, display_name=name, mime_type=mime_type)\n",
        "        file_data[\"file_uri\"] = file_info.uri\n",
        "        return\n",
        "\n",
        "    if \"inline_data\" in file_data:\n",
        "        return\n",
        "\n",
        "    raise ValueError(\"Either `drive_id`, `url` or `inline_data` must be provided.\")\n",
        "\n",
        "\n",
        "contents = copy.deepcopy(gais_contents)\n",
        "\n",
        "index = 0\n",
        "for content in contents:\n",
        "    for n, part in enumerate(content[\"parts\"]):\n",
        "        if file_data := part.get(\"file_data\", None):\n",
        "            upload_file_data(file_data, index)\n",
        "            index += 1\n",
        "\n",
        "import json\n",
        "print(json.dumps(contents, indent=4))"
      ]
    },
    {
      "cell_type": "code",
      "source": [
        "from google.colab import drive\n",
        "drive.mount('/content/drive')"
      ],
      "metadata": {
        "colab": {
          "base_uri": "https://localhost:8080/"
        },
        "id": "ocd6brCaYgCM",
        "outputId": "8208bff6-ae49-496f-b48e-5ecfc56421e4"
      },
      "execution_count": 20,
      "outputs": [
        {
          "output_type": "stream",
          "name": "stdout",
          "text": [
            "Drive already mounted at /content/drive; to attempt to forcibly remount, call drive.mount(\"/content/drive\", force_remount=True).\n"
          ]
        }
      ]
    },
    {
      "cell_type": "code",
      "source": [
        "# Upload the video and print a confirmation.\n",
        "video_file_name = \"/content/drive/MyDrive/经济学/MIT微观_x264.mp4\"\n",
        "\n",
        "print(f\"Uploading file...\")\n",
        "video_file = genai.upload_file(path=video_file_name)\n",
        "print(f\"Completed upload: {video_file.uri}\")\n",
        "import time\n",
        "\n",
        "# Check whether the file is ready to be used.\n",
        "while video_file.state.name == \"PROCESSING\":\n",
        "    print('.', end='')\n",
        "    time.sleep(10)\n",
        "    video_file = genai.get_file(video_file.name)\n",
        "\n",
        "if video_file.state.name == \"FAILED\":\n",
        "  raise ValueError(video_file.state.name)"
      ],
      "metadata": {
        "colab": {
          "base_uri": "https://localhost:8080/"
        },
        "id": "mCEHJ-l8Yk-3",
        "outputId": "9e7e939e-fedb-4d0d-f664-417f59e04bb4"
      },
      "execution_count": 21,
      "outputs": [
        {
          "output_type": "stream",
          "name": "stdout",
          "text": [
            "Uploading file...\n",
            "Completed upload: https://generativelanguage.googleapis.com/v1beta/files/8f6j3xwzea12\n",
            "..........."
          ]
        }
      ]
    },
    {
      "cell_type": "code",
      "source": [
        "from IPython.display import display\n",
        "from IPython.display import Markdown\n",
        "\n",
        "# Call the model and print the response.\n",
        "gemini = genai.GenerativeModel(model_name=model)\n",
        "\n",
        "# Create the prompt.\n",
        "prompt = \"\"\"角色设定: 你是一个学生，正在学习刑法课，想要做到能够清晰、准确地理解法律文本，并能结合实际案例进行分析。\n",
        "任务描述: 请观看我下面给出的刑法总论的关于贿赂犯罪的课程视频。在观看完视频后，请回答下列问题。确保你的回答详细、准确，并结合视频中的相关信息来支持你的答案。\n",
        "\"\"\"\n",
        "contents = [prompt]\n",
        "\n",
        "print(\"Making LLM inference request...\")\n",
        "response = gemini.generate_content(\n",
        "    contents,\n",
        "    generation_config=generation_config,\n",
        "    safety_settings=safety_settings,\n",
        "    stream=stream,\n",
        ")\n",
        "print(\"Successfully generating reponse:\")\n",
        "display(Markdown(response.text))"
      ],
      "metadata": {
        "colab": {
          "base_uri": "https://localhost:8080/",
          "height": 81
        },
        "id": "6TD1HaXTLkAw",
        "outputId": "349fcdae-a0d1-409d-fbc6-a518db41d151"
      },
      "execution_count": 24,
      "outputs": [
        {
          "output_type": "stream",
          "name": "stdout",
          "text": [
            "Making LLM inference request...\n",
            "Successfully generating reponse:\n"
          ]
        },
        {
          "output_type": "display_data",
          "data": {
            "text/plain": [
              "<IPython.core.display.Markdown object>"
            ],
            "text/markdown": "请您提供刑法总论关于贿赂犯罪的课程视频。我看完后会尽力按照您的要求，以学生的身份详细、准确地回答您的问题，并结合视频内容进行分析。\n"
          },
          "metadata": {}
        }
      ]
    },
    {
      "cell_type": "markdown",
      "metadata": {
        "id": "E7zAD69vE92b"
      },
      "source": [
        "## Call `generate_content`"
      ]
    },
    {
      "cell_type": "code",
      "execution_count": 25,
      "metadata": {
        "id": "LB2LxPmAB95V",
        "colab": {
          "base_uri": "https://localhost:8080/",
          "height": 1000
        },
        "outputId": "9194d0a2-8ff0-4913-905b-49b0ae16d578"
      },
      "outputs": [
        {
          "output_type": "stream",
          "name": "stdout",
          "text": [
            "Making LLM inference request...\n",
            "Successfully generating reponse:\n"
          ]
        },
        {
          "output_type": "display_data",
          "data": {
            "text/plain": [
              "<IPython.core.display.Markdown object>"
            ],
            "text/markdown": "Sure! Here are the answers to your questions based on the provided video clip.\n\n**CONCEPT PROBLEMS:**\n1. The primary objective of firms is to maximize their profits, which is defined as revenue minus costs.\n\n\n2. The difference between the short-run and the long-run from the perspective of production theory is that in the short-run, some inputs are fixed, while in the long-run, all inputs are variable.\n\n\n3. All of the listed options are properties of isoquants.\n\n\n4. A production function in which doubling all inputs causes output to more than double is known as increasing returns to scale.\n\n\n5. In the short run, the marginal cost is defined as the wage rate multiplied by the number of hours needed to produce one additional unit.\n\n\n6. An isocost line is defined as combinations of labor and capital that yield the same levels of cost.\n\n\n7. The economically efficient point of production for firms is identified by the tangency of an isoquant with an isocost line.\n\n\n8. The example of McDonald’s demonstrates the concept of labor becoming less productive, not capital. This occurs in a short-run analysis. In a long-run analysis, both capital and labor are variable, as both can be changed. With the two isoquants given, if capital becomes less productive as the business expands, the slope of the long-run expansion path will decrease as output increases, or as L increases. This means the firm will become more capital-intensive with more expansion. The long-run expansion path would be concave.\n\n\n9. The cost of a law school education would be considered sunk costs. This is because these are expenses that can not be recovered once you have graduated law school.\n\n\n10. Short-run choices are 1, and 3. Long-run choices are 2, 4 and 5.\n\n\n11. In the long-run, all inputs are variable. Since fixed costs are defined as costs that do not vary with the level of output, there can be no fixed costs in the long run. \n\n\n12. The manager should assess whether each worker is worth less than the previous workers by using the marginal product of labor. After calculating the value of each worker and calculating the cost of an additional worker, the manager can then evaluate the options of increasing the number of workers or adding machines.\n\n\n13. Adding a 19-year-old student to the class will decrease the average age from 23.7 years. This is an example of diminishing marginal product. The average value decreases as each marginal value is added.\n\n\n14. Barry Bond’s career home run average increased after the 2001 season. His performance increased his home run average. This is because the marginal value (73 home runs) was higher than the average value (33 home runs). The average increases with each marginal value if the marginal value is higher than the average value.\n\n\n15. If the firm is at the minimum point of its average cost curve, that means the marginal cost is equal to the average cost. The firm would not alter the size of its plant unless the prices of the inputs changed.\n\n\n16. The difference between average total cost and average variable cost decreases with each unit of production, because the average fixed costs decrease with each unit of production, and therefore decreases the difference between average total cost and average variable cost.\n\n\n17. This information is not covered in the lecture clip.\n\n\n18. Out of the listed firms, you would expect diseconomies of scale to set in at relatively low levels of output for the restaurant, copy shop and newspaper. This is due to higher fixed costs, which need to be spread out amongst many units of production, and also due to the diminishing marginal returns of labor that result from a lack of machines to aid in production.\n\n\n19. As car repair shops require more computerized testing equipment to repair newer cars, the long-run average total cost curves will likely rise, as the increased use of technology increases costs.\n\n\n**NUMERICAL PROBLEMS:**\n1. \n1. The marginal product of the second janitor is 4 classrooms.\n2. The average product of four janitors is 4 classrooms.\n3. The addition of the third janitor is associated with decreasing marginal returns because the marginal product of labor is less than the previous marginal product. \n4. The addition of the fourth janitor is associated with decreasing marginal returns because the marginal product of labor is less than the previous marginal product.\n5. The addition of the seventh janitor is associated with negative marginal returns because the total product decreases as a result.\n6. The image can’t be provided since the video did not show the drawing process.\n7. The slope of the total product curve is the marginal product of labor. Therefore, the slope values are 3, 4, 5, 4, 1, 0, and -1.\n8.\n1. The marginal product of labor increases when the slope of the total product curve is positive and increasing.\n2. The marginal product of labor decreases when the slope of the total product curve is positive and decreasing.\n3. The marginal product of labor is negative when the slope of the total product curve is negative.\n\n\n2. The total cost is $150,000.\n\n\n3. The error in the director’s recommendation is that she included overhead costs. Overhead costs are a type of sunk costs, which should not be included when making decisions about production.\n\n\n4. \n1. The average fixed cost of cleaning three classrooms is $33.33.\n2. The average variable cost of cleaning three classrooms is $33.33.\n3. The average fixed cost of cleaning seven classrooms is $14.29.\n4. The average variable cost of cleaning seven classrooms is $28.57.\n5. The marginal cost of cleaning the seventeenth classroom is $100.\n6. The average total cost of cleaning twelve classrooms is $33.33.\n\n\n5. The information provided is insufficient to sketch the curves. The variable costs of publishing magazines are labor, paper and ink, electricity and marketing. Fixed costs are printing presses and building rent.\n\n\n6. The calculations are complex and can’t be provided without more detailed information.\n\n\n7. \n1. The image can’t be provided, since the video did not show the drawing process.\n2. The image can’t be provided.\n3. The cost per knife is decreasing in the region of the long-run average cost curve that corresponds to economies of scale.\n4. The cost per knife is constant in the region of the long-run average cost curve that corresponds to constant returns to scale.\n5. The cost per knife is increasing in the region of the long-run average cost curve that corresponds to diseconomies of scale.\n\n\n8. If the marginal product of capital is 60 and the price of capital is $6, and the marginal product of labor is 20 and the price of labor is $2.50, the firm should increase the amount of labor and decrease the amount of capital used. This is because the bang-for-the-buck of labor is 8, while the bang-for-the-buck of capital is 10. Therefore, the firm can achieve a greater marginal product per dollar using capital.\n\n\n9. The price of labor must be $5 per unit.\n\n\n10.\n1. The marginal product of capital must be 100.\n2. The firm would become more labor-intensive since capital becomes more expensive to use relative to labor. \n\n\nI hope this is helpful. Let me know if you have any other questions."
          },
          "metadata": {}
        }
      ],
      "source": [
        "from IPython.display import display\n",
        "from IPython.display import Markdown\n",
        "\n",
        "# Call the model and print the response.\n",
        "gemini = genai.GenerativeModel(model_name=model)\n",
        "\n",
        "# Create the prompt.\n",
        "prompt = \"\"\"\n",
        "Role: You are a student majoring in microeconomics, hoping to master the knowledge of microeconomics and apply it to answer questions.\n",
        "Task: Please watch the course video I provide below. After watching the video, please answer the following questions. Ensure that your answers are detailed and accurate, and supported by relevant information from the video.\n",
        "List of questions:\n",
        "CONCEPT PROBLEMS:\n",
        "(Question 1 to 9 are Multiple-choice questions, each question has only one correct option, please select the correct option.)\n",
        "1．What is the primary objective of firms?\n",
        "      1. Maximizing profit.\n",
        "      2. Maximizing revenue.\n",
        "      3. Maximizing utility.\n",
        "      4. Minimizing costs.\n",
        "2. What is the difference between the short-run and the long-run from the perspective of production theory?\n",
        "      1. In the short run, all inputs are invariable, and in the long run they are variable.\n",
        "      2. In the short run, all inputs are variable, and in the long run they are invariable.\n",
        "      3. In the short run, only capital varies, and in the long run both labor and capital vary.\n",
        "      4. In the short run, only labor varies, and in the long run both labor and capital vary.\n",
        "3.Which of the following is NOT a property of isoquants?\n",
        "      1. Always non-linear.\n",
        "      2. Do not cross.\n",
        "      3. Downward sloping.\n",
        "      4. Further out is better.\n",
        "4.What is the term used to describe a production function in which you can double all inputs and output increases by more than double?\n",
        "      1. Constant returns to scale.\n",
        "      2. Decreasing returns to scale.\n",
        "      3. Increasing returns to scale.\n",
        "      4. Leontief.\n",
        "5.In the short run, how is the marginal cost defined?\n",
        "      1. The capital rental rate multiplied by the number of machines needed to produce one additional unit.\n",
        "      2. The capital rental rate multiplied by the number of machines used.\n",
        "      3. The wage rate multiplied by the amount of labor used.\n",
        "      4. The wage rate multiplied by the number of hours needed to produce one additional unit.\n",
        "6.An isocost line is defined as combinations of labor and capital that yield the same levels of what quantity?\n",
        "      1. Cost.\n",
        "      2. None of these.\n",
        "      3. Profit.\n",
        "      4. Revenue.\n",
        "7.The economically efficient point of production for firms is identified by the tangency of what two objects?\n",
        "      1. An isoquant is tangent to the X axis.\n",
        "      2. An isoquant is tangent to the budget constraint.\n",
        "      3. An isoquant is tangent to the isocost line.\n",
        "      4. Two isoquants are tangent to each other.\n",
        "8.For a fast-food business like McDonald's, as the business expands capital becomes less productive, and the business requires more and more labor. What does this imply about the long-run expansion path?\n",
        "      1. It depends on the specific production function.\n",
        "      2. It is concave (i.e., the slope decreases as L increases).\n",
        "      3. It is convex (i.e., the slope increases as L increases).\n",
        "      4. It is linear.\n",
        "9.What is an example of sunk costs for someone opening a law practice?\n",
        "      1. Rent on office space.\n",
        "      2. The cost of a law school education.\n",
        "      3. The cost of office supplies.\n",
        "      4. Wages for paralegals.\n",
        "10. Which of the following would be considered long-run choices? Which are short-run choices?\n",
        "      1.\tA dentist hires a new part-time dental hygienist.\n",
        "      2. The local oil refinery plans a complete restructuring of its\n",
        "production processes, including relocating the plant.\n",
        "3. A farmer increases the quantity of water applied to his or her\n",
        "fields.\n",
        "4. A law partnership signs a 3-year lease for an office complex.\n",
        "5. The university hires a new football coach on a 3-year contract.\n",
        "11. “There are no fixed costs in the long run.” Explain.\n",
        "12. Business is booming at the local McDonald’s restaurant. It is contemplating adding a new grill and french-fry machine, but the day supervisor suggests simply hiring more workers. How should the manager decide which alternative to pursue?\n",
        "13. Suppose that the average age of students in your economics class is 23.7 years. If a new 19-year-old student enrolls in the class, will the average age in the class rise or fall? Explain how this relates to the relationship between average and marginal values.\n",
        "14. Barry Bond’s career home run average in his first 15 years in major league baseball (through 1997) was 33 home runs per season. In 2001, he hit 73 home runs. What happened to his career home run average? What effect did his performance in 2001 have on his career home run average? Explain how this relates to the relationship between average and marginal values.\n",
        "15. Suppose a firm is operating at the minimum point of its short-run average total cost curve, so that marginal cost equals average total cost. Under what circumstances would it choose to alter the size of its plant? Explain.\n",
        "16. What happens to the difference between average total cost and average variable cost as a firm’s output expands? Explain.\n",
        "17. How would each of the following affect average total cost, average variable cost, and marginal cost?\n",
        "      1. An increase in the cost of the lease of the firm’s building\n",
        "      2. A reduction in the price of electricity\n",
        "      3. A reduction in wages\n",
        "      4. A change in the salary of the president of the company\n",
        "18. Consider the following types of firms. For each one, the long-run average cost curve eventually exhibits diseconomies of scale. For which firms would you expect diseconomies of scale to set in at relatively low levels of output? Why?\n",
        "      1. A copy shop\n",
        "      2. A hardware store\n",
        "      3. A dairy\n",
        "      4. A newspaper\n",
        "      5. An automobile manufacturer\n",
        "      6. A restaurant\n",
        "19. As car manufacturers incorporate more sophisticated computer technology in their vehicles, auto-repair shops require more computerized testing equipment, which is quite expensive, in order to repair newer cars. How is this likely to affect the shape of these firms’ long-run average total cost curves? How is it likely to affect the number of auto-repair firms in any market?\n",
        "\n",
        "NUMERICAL PROBLEMS:\n",
        "1. The table below shows how the number of university classrooms cleaned in an evening varies with the number of janitors:\n",
        "      Janitors per evening | 0 | 1 | 2 | 3 | 4 | 5 | 6 | 7\n",
        "      Classrooms cleaned per evening | 0 | 3 | 7 | 12 | 16 | 17 | 17 | 16\n",
        "      1. What is the marginal product of the second janitor?\n",
        "      2. What is the average product of four janitors?\n",
        "      3. Is the addition of the third janitor associated with increasing, diminishing, or negative marginal returns? Explain.\n",
        "      4. Is the addition of the fourth janitor associated with increasing, diminishing, or negative marginal returns? Explain.\n",
        "      5. Is the addition of the seventh janitor associated with increasing, diminishing, or negative marginal returns? Explain.\n",
        "      6. Draw the total product, average product, and marginal product curves and shade the regions corresponding to increasing marginal returns, decreasing marginal returns, and\n",
        "      negative marginal returns.\n",
        "      7. Calculate the slope of the total product curve as each janitor is added.\n",
        "      8. Characterize the nature of marginal returns in the region where\n",
        "          1) The slope of the total product curve is positive and\n",
        "          increasing.\n",
        "          2) The slope of the total product curve is positive and\n",
        "          decreasing.\n",
        "          3) The slope of the total product curve is negative\n",
        "2. Suppose a firm is producing 1,000 units of output. Its average fixed costs are $100. Its average variable costs are $50. What is the total cost of producing 1,000 units of output?\n",
        "3. The director of a nonprofit foundation that sponsors 8-week summer institutes for graduate students analyzed the costs and expected revenues for the next summer institute and recommended that the session be canceled. In her analysis she included a share of the foundation’s overhead—the salaries of the director and staff and costs of maintaining the office—to the program. She estimated costs and revenues as follows:\n",
        "      Projected revenues (from tuition and fees) | $300,000\n",
        "      Projected costs\n",
        "      Overhead | $ 50,000\n",
        "      Room and board for students | $100,000\n",
        "      Costs for faculty and miscellaneous | $175,000\n",
        "      Total costs | $325,000\n",
        "What was the error in the director’s recommendation?\n",
        "4. The table below shows the total cost of cleaning classrooms:\n",
        "    Classrooms cleaned per evening | 0 | 3 | 7 | 12 | 16 | 17\n",
        "    Total cost | $100 | $200 | $300 | $400 | $500 | $600\n",
        "      1. What is the average fixed cost of cleaning three classrooms?\n",
        "      2. What is the average variable cost of cleaning three\n",
        "      classrooms?\n",
        "      3. What is the average fixed cost of cleaning seven classrooms?\n",
        "      4. What is the average variable cost of cleaning seven\n",
        "      classrooms?\n",
        "      5. What is the marginal cost of cleaning the seventeenth\n",
        "      classroom?\n",
        "      6. What is the average total cost of cleaning twelve classrooms?\n",
        "5. The average total cost for printing 10,000 copies of an issue of a magazine is $0.45 per copy. For 20,000 copies, the average total cost is $0.35 apiece; for 30,000, the average total cost is $0.30 per copy. The average total cost continues to decline slightly over every level of output that the publishers of the magazine have considered. Sketch the approximate shapes of the average and marginal cost curves. What are some variable costs of publishing magazines? Some fixed costs?\n",
        "6. The information in the table explains the production of socks. Assume that the price per unit of the variable factor of production (L) is $20 and the price per unit of the fixed factor of production (K) is $5.\n",
        "      Units of Fixed Factor (K) | Units of Variable Factor (L) | Total Product (Q)\n",
        "      10 | 0 | 0\n",
        "      10 | 1 | 2\n",
        "      10 | 2 | 5\n",
        "      10 | 3 | 12\n",
        "      10 | 4 | 15\n",
        "      10 | 5 | 16\n",
        "    1. Add columns to the table and calculate the values for : Marginal Product of Labor (MPL), Total Variable Cost (TVC), Total Fixed Cost (TFC), Total Cost (TC), Average Variable Cost (AVC), Average Fixed Cost (AFC), Average Total Cost (ATC), and Marginal Cost (MC).\n",
        "    2. On two sets of axes, graph the Total Product and Marginal Product curves. Be sure to label curves and axes and remember to plot marginal product using the midpoint convention. Indicate the point on each graph at which diminishing marginal returns appears to begin.\n",
        "    3. Graph Total Variable Cost, Total Fixed Cost, and Total Cost on another set of axes. Indicate the point on the graph at which diminishing marginal returns appears to begin.\n",
        "    4. Graph the Average Fixed Cost, Average Variable Cost, Average Total Cost, and Marginal Cost curves on another set of axes. Indicate the point at which diminishing marginal returns appears to begin.\n",
        "7. The table below shows the long-run average cost of producing knives:\n",
        "      Knives per hour | 1,000 | 2,000 | 3,000 | 4,000 | 5,000 | 6,000\n",
        "      Cost per knife | $2 | $1.50 | $1.00 | $1.00 | $1.20 | $1.30\n",
        "    1. Draw the long-run average cost curve for knives.\n",
        "    2. Shade the regions corresponding to economies of scale, constant returns to scale, and diseconomies of scale.\n",
        "    3. In the region of the long-run average cost curve that corresponds to economies of scale, what is happening to the cost per knife?\n",
        "    4. In the region of the long-run average cost curve that corresponds to constant returns to scale, what is happening to the cost per knife?\n",
        "    5. In the region of the long-run average cost curve that corresponds to diseconomies of scale, what is happening to the cost per knife?\n",
        "8. Suppose a firm finds that the marginal product of capital is 60 and the marginal product of labor is 20. If the price of capital is $6 and the price of labor is $2.50, how should the firm adjust its mix of capital and labor? What will be the result?\n",
        "9. A firm minimizes its costs by using inputs such that the marginal product of labor is 10 and the marginal product of capital is 20. The price of capital is $10 per unit. What must the price of labor be?10.Suppose that the price of labor is $10 per unit and the price of\n",
        "capital is $20 per unit.\n",
        "    1. Assuming the firm is minimizing its cost, if the marginal\n",
        "    product of labor is 50, what must the marginal product of\n",
        "    capital be?\n",
        "    2. Suppose the price of capital increases to $25 per unit, while\n",
        "    the price of labor stays the same. To minimize the cost of\n",
        "    producing the same level of output, would the firm become\n",
        "    more capital-intensive or labor-intensive? Explain.\n",
        "\n",
        "Please answer the questions based on the video content. The answer format should be to list the question first, and then provide the answer. For questions whose answers cannot be inferred from the video, please answer that the video does not mention the relevant knowledge points and cannot answer.\n",
        "\"\"\"\n",
        "contents = [video_file, prompt]\n",
        "\n",
        "print(\"Making LLM inference request...\")\n",
        "response = gemini.generate_content(\n",
        "    contents,\n",
        "    generation_config=generation_config,\n",
        "    safety_settings=safety_settings,\n",
        "    stream=stream,\n",
        ")\n",
        "print(\"Successfully generating reponse:\")\n",
        "display(Markdown(response.text))"
      ]
    },
    {
      "cell_type": "markdown",
      "metadata": {
        "id": "9c9d345e9868"
      },
      "source": [
        "<table class=\"tfo-notebook-buttons\" align=\"left\">\n",
        "  <td>\n",
        "    <a target=\"_blank\" href=\"https://ai.google.dev/gemini-api/docs\"><img src=\"https://ai.google.dev/static/site-assets/images/docs/notebook-site-button.png\" height=\"32\" width=\"32\" />Docs on ai.google.dev</a>\n",
        "  </td>\n",
        "  <td>\n",
        "    <a target=\"_blank\" href=\"https://github.com/google-gemini/cookbook/blob/main/quickstarts\"><img src=\"https://www.tensorflow.org/images/GitHub-Mark-32px.png\" />More notebooks in the Cookbook</a>\n",
        "  </td>\n",
        "</table>"
      ]
    },
    {
      "cell_type": "markdown",
      "metadata": {
        "id": "F91AeeGO1ncU"
      },
      "source": [
        "## [optional] Show the conversation\n",
        "\n",
        "This section displays the conversation received from Google AI Studio."
      ]
    },
    {
      "cell_type": "code",
      "execution_count": null,
      "metadata": {
        "cellView": "form",
        "id": "yoL3p3KPylFW"
      },
      "outputs": [],
      "source": [
        "# @title Show the conversation, in colab.\n",
        "import mimetypes\n",
        "\n",
        "def show_file(file_data):\n",
        "    mime_type = file_data[\"mime_type\"]\n",
        "\n",
        "    if drive_id := file_data.get(\"drive_id\", None):\n",
        "        path = next(\n",
        "            pathlib.Path(f\"/gdrive/.shortcut-targets-by-id/{drive_id}\").glob(\"*\")\n",
        "        )\n",
        "        name = path\n",
        "        # data = path.read_bytes()\n",
        "        kwargs = {\"filename\": path}\n",
        "    elif url := file_data.get(\"url\", None):\n",
        "        name = url\n",
        "        kwargs = {\"url\": url}\n",
        "        # response = requests.get(url)\n",
        "        # data = response.content\n",
        "    elif data := file_data.get(\"inline_data\", None):\n",
        "        name = None\n",
        "        kwargs = {\"data\": data}\n",
        "    elif name := file_data.get(\"filename\", None):\n",
        "        if not pathlib.Path(name).exists():\n",
        "            raise IOError(\n",
        "                f\"local file: `{name}` does not exist. You can upload files to \"\n",
        "                'Colab using the file manager (\"📁 Files\"in the left toolbar)'\n",
        "            )\n",
        "    else:\n",
        "        raise ValueError(\"Either `drive_id`, `url` or `inline_data` must be provided.\")\n",
        "\n",
        "        print(f\"File:\\n    name: {name}\\n    mime_type: {mime_type}\\n\")\n",
        "        return\n",
        "\n",
        "    format = mimetypes.guess_extension(mime_type).strip(\".\")\n",
        "    if mime_type.startswith(\"image/\"):\n",
        "        image = IPython.display.Image(**kwargs, width=256)\n",
        "        IPython.display.display(image)\n",
        "        print()\n",
        "        return\n",
        "\n",
        "    if mime_type.startswith(\"audio/\"):\n",
        "        if len(data) < 2**12:\n",
        "            audio = IPython.display.Audio(**kwargs)\n",
        "            IPython.display.display(audio)\n",
        "            print()\n",
        "            return\n",
        "\n",
        "    if mime_type.startswith(\"video/\"):\n",
        "        if len(data) < 2**12:\n",
        "            audio = IPython.display.Video(**kwargs, mimetype=mime_type)\n",
        "            IPython.display.display(audio)\n",
        "            print()\n",
        "            return\n",
        "\n",
        "    print(f\"File:\\n    name: {name}\\n    mime_type: {mime_type}\\n\")\n",
        "\n",
        "\n",
        "for content in gais_contents:\n",
        "    if role := content.get(\"role\", None):\n",
        "        print(\"Role:\", role, \"\\n\")\n",
        "\n",
        "    for n, part in enumerate(content[\"parts\"]):\n",
        "        if text := part.get(\"text\", None):\n",
        "            print(text, \"\\n\")\n",
        "\n",
        "        elif file_data := part.get(\"file_data\", None):\n",
        "            show_file(file_data)\n",
        "\n",
        "    print(\"-\" * 80, \"\\n\")"
      ]
    }
  ],
  "metadata": {
    "colab": {
      "collapsed_sections": [
        "Tce3stUlHN0L"
      ],
      "name": "aistudio_gemini_prompt_freeform.ipynb",
      "provenance": []
    },
    "kernelspec": {
      "display_name": "Python 3",
      "name": "python3"
    }
  },
  "nbformat": 4,
  "nbformat_minor": 0
}